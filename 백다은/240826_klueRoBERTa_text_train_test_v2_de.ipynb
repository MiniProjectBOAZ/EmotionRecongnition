{
  "cells": [
    {
      "cell_type": "code",
      "execution_count": null,
      "metadata": {
        "id": "hHL9j069Z8ch"
      },
      "outputs": [],
      "source": [
        "# from google.colab import drive\n",
        "# drive.mount('/content/gdrive')"
      ]
    },
    {
      "cell_type": "code",
      "execution_count": 1,
      "metadata": {
        "id": "j7Po1796b8xV"
      },
      "outputs": [],
      "source": [
        "import pandas as pd\n",
        "import numpy as np\n",
        "from tqdm import tqdm_notebook as tqdm\n",
        "\n",
        "import torch\n",
        "import re\n",
        "from torch.utils.data import Dataset, DataLoader\n",
        "from transformers import ElectraTokenizer, ElectraForSequenceClassification\n",
        "from transformers import AutoTokenizer, AutoModelForSequenceClassification\n",
        "from transformers import AdamW\n",
        "import torch.optim as optim\n",
        "\n",
        "from sklearn.model_selection import train_test_split\n",
        "from torch.optim.lr_scheduler import StepLR\n",
        "import torch.nn as nn\n",
        "\n",
        "import warnings\n",
        "warnings.filterwarnings(\"ignore\")"
      ]
    },
    {
      "cell_type": "code",
      "execution_count": 2,
      "metadata": {
        "id": "Hzav23dvdLNn"
      },
      "outputs": [],
      "source": [
        "def set_seed(seed=42):\n",
        "    np.random.seed(seed)  # 이 부분이 pandas의 sample 함수에도 영향을 줍니다.\n",
        "    torch.manual_seed(seed)\n",
        "    if torch.cuda.is_available():\n",
        "        torch.cuda.manual_seed_all(seed)\n",
        "\n",
        "set_seed()"
      ]
    },
    {
      "cell_type": "code",
      "execution_count": 3,
      "metadata": {
        "id": "5HUF4VHQb2Mk",
        "colab": {
          "base_uri": "https://localhost:8080/"
        },
        "outputId": "e5175116-6b1e-426d-9ca2-2c8322197a49"
      },
      "outputs": [
        {
          "output_type": "stream",
          "name": "stdout",
          "text": [
            "cuda\n"
          ]
        }
      ],
      "source": [
        "# GPU 설정\n",
        "device = torch.device(\"cuda\" if torch.cuda.is_available() else \"cpu\")\n",
        "print(device)"
      ]
    },
    {
      "cell_type": "code",
      "execution_count": 4,
      "metadata": {
        "id": "0F1c5ZJXbgmy",
        "colab": {
          "base_uri": "https://localhost:8080/"
        },
        "outputId": "1f03aa41-2f4b-4295-997a-a52a6a72e4b4"
      },
      "outputs": [
        {
          "output_type": "stream",
          "name": "stdout",
          "text": [
            "Train set size: 12370, Test set size: 3093\n"
          ]
        }
      ],
      "source": [
        "# 데이터 로드 및 분할\n",
        "df = pd.read_csv(\"/content/df_calculation.csv\")\n",
        "\n",
        "# df = pd.read_csv(\"/content/gdrive/MyDrive/BOAZ_MiniProject1/data/df_emotion.csv\")\n",
        "# df.rename(columns={\"emo_num\": \"label\"}, inplace=True)\n",
        "df = df[['wav_id', 'text', 'label']]\n",
        "df_train, df_test = train_test_split(df, test_size=0.2, shuffle=True, random_state=32)\n",
        "\n",
        "print(f\"Train set size: {len(df_train)}, Test set size: {len(df_test)}\")"
      ]
    },
    {
      "cell_type": "code",
      "execution_count": 5,
      "metadata": {
        "id": "aOrDmBqtcSQ1",
        "colab": {
          "base_uri": "https://localhost:8080/",
          "height": 223
        },
        "outputId": "ca0e9abd-cf7a-4e84-f49d-12e8e71be5d9"
      },
      "outputs": [
        {
          "output_type": "execute_result",
          "data": {
            "text/plain": [
              "                         wav_id                                          text  \\\n",
              "7290   5f9380c7d338b948c4e6aa17                                     나 너무 우울해.   \n",
              "10301  5fb4cdcb576e9378b67ac08a                                  어. 우울하고 답답해.   \n",
              "1107   5f5c5d8b2e23c7161accd00c  정말 너무 기분이 좋더라고. 내가 이 맛을 보려고 열심히 최선을 다한 것 같아.   \n",
              "10921  5fb87c634c55eb78bd7cdc77                               나 오늘 짭새 구경하다왔어.   \n",
              "9033   5f9228099e04b149046cdc09                       단톡방에서 아는 지인이 주식을 추천해줬어.   \n",
              "\n",
              "       label  \n",
              "7290       2  \n",
              "10301      2  \n",
              "1107       1  \n",
              "10921      3  \n",
              "9033       2  "
            ],
            "text/html": [
              "\n",
              "  <div id=\"df-bda8bfcc-9436-47dd-95bc-a733dbdb4104\" class=\"colab-df-container\">\n",
              "    <div>\n",
              "<style scoped>\n",
              "    .dataframe tbody tr th:only-of-type {\n",
              "        vertical-align: middle;\n",
              "    }\n",
              "\n",
              "    .dataframe tbody tr th {\n",
              "        vertical-align: top;\n",
              "    }\n",
              "\n",
              "    .dataframe thead th {\n",
              "        text-align: right;\n",
              "    }\n",
              "</style>\n",
              "<table border=\"1\" class=\"dataframe\">\n",
              "  <thead>\n",
              "    <tr style=\"text-align: right;\">\n",
              "      <th></th>\n",
              "      <th>wav_id</th>\n",
              "      <th>text</th>\n",
              "      <th>label</th>\n",
              "    </tr>\n",
              "  </thead>\n",
              "  <tbody>\n",
              "    <tr>\n",
              "      <th>7290</th>\n",
              "      <td>5f9380c7d338b948c4e6aa17</td>\n",
              "      <td>나 너무 우울해.</td>\n",
              "      <td>2</td>\n",
              "    </tr>\n",
              "    <tr>\n",
              "      <th>10301</th>\n",
              "      <td>5fb4cdcb576e9378b67ac08a</td>\n",
              "      <td>어. 우울하고 답답해.</td>\n",
              "      <td>2</td>\n",
              "    </tr>\n",
              "    <tr>\n",
              "      <th>1107</th>\n",
              "      <td>5f5c5d8b2e23c7161accd00c</td>\n",
              "      <td>정말 너무 기분이 좋더라고. 내가 이 맛을 보려고 열심히 최선을 다한 것 같아.</td>\n",
              "      <td>1</td>\n",
              "    </tr>\n",
              "    <tr>\n",
              "      <th>10921</th>\n",
              "      <td>5fb87c634c55eb78bd7cdc77</td>\n",
              "      <td>나 오늘 짭새 구경하다왔어.</td>\n",
              "      <td>3</td>\n",
              "    </tr>\n",
              "    <tr>\n",
              "      <th>9033</th>\n",
              "      <td>5f9228099e04b149046cdc09</td>\n",
              "      <td>단톡방에서 아는 지인이 주식을 추천해줬어.</td>\n",
              "      <td>2</td>\n",
              "    </tr>\n",
              "  </tbody>\n",
              "</table>\n",
              "</div>\n",
              "    <div class=\"colab-df-buttons\">\n",
              "\n",
              "  <div class=\"colab-df-container\">\n",
              "    <button class=\"colab-df-convert\" onclick=\"convertToInteractive('df-bda8bfcc-9436-47dd-95bc-a733dbdb4104')\"\n",
              "            title=\"Convert this dataframe to an interactive table.\"\n",
              "            style=\"display:none;\">\n",
              "\n",
              "  <svg xmlns=\"http://www.w3.org/2000/svg\" height=\"24px\" viewBox=\"0 -960 960 960\">\n",
              "    <path d=\"M120-120v-720h720v720H120Zm60-500h600v-160H180v160Zm220 220h160v-160H400v160Zm0 220h160v-160H400v160ZM180-400h160v-160H180v160Zm440 0h160v-160H620v160ZM180-180h160v-160H180v160Zm440 0h160v-160H620v160Z\"/>\n",
              "  </svg>\n",
              "    </button>\n",
              "\n",
              "  <style>\n",
              "    .colab-df-container {\n",
              "      display:flex;\n",
              "      gap: 12px;\n",
              "    }\n",
              "\n",
              "    .colab-df-convert {\n",
              "      background-color: #E8F0FE;\n",
              "      border: none;\n",
              "      border-radius: 50%;\n",
              "      cursor: pointer;\n",
              "      display: none;\n",
              "      fill: #1967D2;\n",
              "      height: 32px;\n",
              "      padding: 0 0 0 0;\n",
              "      width: 32px;\n",
              "    }\n",
              "\n",
              "    .colab-df-convert:hover {\n",
              "      background-color: #E2EBFA;\n",
              "      box-shadow: 0px 1px 2px rgba(60, 64, 67, 0.3), 0px 1px 3px 1px rgba(60, 64, 67, 0.15);\n",
              "      fill: #174EA6;\n",
              "    }\n",
              "\n",
              "    .colab-df-buttons div {\n",
              "      margin-bottom: 4px;\n",
              "    }\n",
              "\n",
              "    [theme=dark] .colab-df-convert {\n",
              "      background-color: #3B4455;\n",
              "      fill: #D2E3FC;\n",
              "    }\n",
              "\n",
              "    [theme=dark] .colab-df-convert:hover {\n",
              "      background-color: #434B5C;\n",
              "      box-shadow: 0px 1px 3px 1px rgba(0, 0, 0, 0.15);\n",
              "      filter: drop-shadow(0px 1px 2px rgba(0, 0, 0, 0.3));\n",
              "      fill: #FFFFFF;\n",
              "    }\n",
              "  </style>\n",
              "\n",
              "    <script>\n",
              "      const buttonEl =\n",
              "        document.querySelector('#df-bda8bfcc-9436-47dd-95bc-a733dbdb4104 button.colab-df-convert');\n",
              "      buttonEl.style.display =\n",
              "        google.colab.kernel.accessAllowed ? 'block' : 'none';\n",
              "\n",
              "      async function convertToInteractive(key) {\n",
              "        const element = document.querySelector('#df-bda8bfcc-9436-47dd-95bc-a733dbdb4104');\n",
              "        const dataTable =\n",
              "          await google.colab.kernel.invokeFunction('convertToInteractive',\n",
              "                                                    [key], {});\n",
              "        if (!dataTable) return;\n",
              "\n",
              "        const docLinkHtml = 'Like what you see? Visit the ' +\n",
              "          '<a target=\"_blank\" href=https://colab.research.google.com/notebooks/data_table.ipynb>data table notebook</a>'\n",
              "          + ' to learn more about interactive tables.';\n",
              "        element.innerHTML = '';\n",
              "        dataTable['output_type'] = 'display_data';\n",
              "        await google.colab.output.renderOutput(dataTable, element);\n",
              "        const docLink = document.createElement('div');\n",
              "        docLink.innerHTML = docLinkHtml;\n",
              "        element.appendChild(docLink);\n",
              "      }\n",
              "    </script>\n",
              "  </div>\n",
              "\n",
              "\n",
              "<div id=\"df-e40caffb-2c68-48d6-89b8-90625e05fb8e\">\n",
              "  <button class=\"colab-df-quickchart\" onclick=\"quickchart('df-e40caffb-2c68-48d6-89b8-90625e05fb8e')\"\n",
              "            title=\"Suggest charts\"\n",
              "            style=\"display:none;\">\n",
              "\n",
              "<svg xmlns=\"http://www.w3.org/2000/svg\" height=\"24px\"viewBox=\"0 0 24 24\"\n",
              "     width=\"24px\">\n",
              "    <g>\n",
              "        <path d=\"M19 3H5c-1.1 0-2 .9-2 2v14c0 1.1.9 2 2 2h14c1.1 0 2-.9 2-2V5c0-1.1-.9-2-2-2zM9 17H7v-7h2v7zm4 0h-2V7h2v10zm4 0h-2v-4h2v4z\"/>\n",
              "    </g>\n",
              "</svg>\n",
              "  </button>\n",
              "\n",
              "<style>\n",
              "  .colab-df-quickchart {\n",
              "      --bg-color: #E8F0FE;\n",
              "      --fill-color: #1967D2;\n",
              "      --hover-bg-color: #E2EBFA;\n",
              "      --hover-fill-color: #174EA6;\n",
              "      --disabled-fill-color: #AAA;\n",
              "      --disabled-bg-color: #DDD;\n",
              "  }\n",
              "\n",
              "  [theme=dark] .colab-df-quickchart {\n",
              "      --bg-color: #3B4455;\n",
              "      --fill-color: #D2E3FC;\n",
              "      --hover-bg-color: #434B5C;\n",
              "      --hover-fill-color: #FFFFFF;\n",
              "      --disabled-bg-color: #3B4455;\n",
              "      --disabled-fill-color: #666;\n",
              "  }\n",
              "\n",
              "  .colab-df-quickchart {\n",
              "    background-color: var(--bg-color);\n",
              "    border: none;\n",
              "    border-radius: 50%;\n",
              "    cursor: pointer;\n",
              "    display: none;\n",
              "    fill: var(--fill-color);\n",
              "    height: 32px;\n",
              "    padding: 0;\n",
              "    width: 32px;\n",
              "  }\n",
              "\n",
              "  .colab-df-quickchart:hover {\n",
              "    background-color: var(--hover-bg-color);\n",
              "    box-shadow: 0 1px 2px rgba(60, 64, 67, 0.3), 0 1px 3px 1px rgba(60, 64, 67, 0.15);\n",
              "    fill: var(--button-hover-fill-color);\n",
              "  }\n",
              "\n",
              "  .colab-df-quickchart-complete:disabled,\n",
              "  .colab-df-quickchart-complete:disabled:hover {\n",
              "    background-color: var(--disabled-bg-color);\n",
              "    fill: var(--disabled-fill-color);\n",
              "    box-shadow: none;\n",
              "  }\n",
              "\n",
              "  .colab-df-spinner {\n",
              "    border: 2px solid var(--fill-color);\n",
              "    border-color: transparent;\n",
              "    border-bottom-color: var(--fill-color);\n",
              "    animation:\n",
              "      spin 1s steps(1) infinite;\n",
              "  }\n",
              "\n",
              "  @keyframes spin {\n",
              "    0% {\n",
              "      border-color: transparent;\n",
              "      border-bottom-color: var(--fill-color);\n",
              "      border-left-color: var(--fill-color);\n",
              "    }\n",
              "    20% {\n",
              "      border-color: transparent;\n",
              "      border-left-color: var(--fill-color);\n",
              "      border-top-color: var(--fill-color);\n",
              "    }\n",
              "    30% {\n",
              "      border-color: transparent;\n",
              "      border-left-color: var(--fill-color);\n",
              "      border-top-color: var(--fill-color);\n",
              "      border-right-color: var(--fill-color);\n",
              "    }\n",
              "    40% {\n",
              "      border-color: transparent;\n",
              "      border-right-color: var(--fill-color);\n",
              "      border-top-color: var(--fill-color);\n",
              "    }\n",
              "    60% {\n",
              "      border-color: transparent;\n",
              "      border-right-color: var(--fill-color);\n",
              "    }\n",
              "    80% {\n",
              "      border-color: transparent;\n",
              "      border-right-color: var(--fill-color);\n",
              "      border-bottom-color: var(--fill-color);\n",
              "    }\n",
              "    90% {\n",
              "      border-color: transparent;\n",
              "      border-bottom-color: var(--fill-color);\n",
              "    }\n",
              "  }\n",
              "</style>\n",
              "\n",
              "  <script>\n",
              "    async function quickchart(key) {\n",
              "      const quickchartButtonEl =\n",
              "        document.querySelector('#' + key + ' button');\n",
              "      quickchartButtonEl.disabled = true;  // To prevent multiple clicks.\n",
              "      quickchartButtonEl.classList.add('colab-df-spinner');\n",
              "      try {\n",
              "        const charts = await google.colab.kernel.invokeFunction(\n",
              "            'suggestCharts', [key], {});\n",
              "      } catch (error) {\n",
              "        console.error('Error during call to suggestCharts:', error);\n",
              "      }\n",
              "      quickchartButtonEl.classList.remove('colab-df-spinner');\n",
              "      quickchartButtonEl.classList.add('colab-df-quickchart-complete');\n",
              "    }\n",
              "    (() => {\n",
              "      let quickchartButtonEl =\n",
              "        document.querySelector('#df-e40caffb-2c68-48d6-89b8-90625e05fb8e button');\n",
              "      quickchartButtonEl.style.display =\n",
              "        google.colab.kernel.accessAllowed ? 'block' : 'none';\n",
              "    })();\n",
              "  </script>\n",
              "</div>\n",
              "\n",
              "    </div>\n",
              "  </div>\n"
            ],
            "application/vnd.google.colaboratory.intrinsic+json": {
              "type": "dataframe",
              "variable_name": "df_train",
              "summary": "{\n  \"name\": \"df_train\",\n  \"rows\": 12370,\n  \"fields\": [\n    {\n      \"column\": \"wav_id\",\n      \"properties\": {\n        \"dtype\": \"string\",\n        \"num_unique_values\": 12370,\n        \"samples\": [\n          \"5fb4ba3f576e9378b67ac033\",\n          \"5fb38c680fb0f33aa31ca2d5\",\n          \"5f77ab999e04b149046cc047\"\n        ],\n        \"semantic_type\": \"\",\n        \"description\": \"\"\n      }\n    },\n    {\n      \"column\": \"text\",\n      \"properties\": {\n        \"dtype\": \"string\",\n        \"num_unique_values\": 10657,\n        \"samples\": [\n          \"\\ucf54\\ub85c\\ub098 \\ub54c\\ubb38\\uc5d0 \\ubc16\\uc5d0 \\ubabb \\ub098\\uac00\\uc11c.\",\n          \"\\ub178\\ud2b8\\ubd81\\uc774 \\ub2a6\\uac8c \\ubc30\\uc1a1 \\ub3fc\\uc11c \\uac71\\uc815\\ud558\\uace0 \\uc788\\uc5c8\\ub294\\ub370 \\uc624\\ub298 \\ub3c4\\ucc29\\ud574\\uc11c \\uae30\\ubd84\\uc774 \\uc88b\\uc544. 120\\ub9cc\\uc6d0\\uc9dc\\ub9ac \\ub178\\ud2b8\\ubd81\\uc744 \\uad6c\\ub9e4\\ud588\\uc5b4.\",\n          \"\\uc9ed\\uc0c8\\uac00 \\ubab0\\ub824 \\uc788\\uc5b4\\uc11c \\uad6c\\uacbd \\ub2e4\\ub140 \\uc654\\uc5b4.\"\n        ],\n        \"semantic_type\": \"\",\n        \"description\": \"\"\n      }\n    },\n    {\n      \"column\": \"label\",\n      \"properties\": {\n        \"dtype\": \"number\",\n        \"std\": 0,\n        \"min\": 0,\n        \"max\": 3,\n        \"num_unique_values\": 4,\n        \"samples\": [\n          1,\n          0,\n          2\n        ],\n        \"semantic_type\": \"\",\n        \"description\": \"\"\n      }\n    }\n  ]\n}"
            }
          },
          "metadata": {},
          "execution_count": 5
        }
      ],
      "source": [
        "df_train.head()"
      ]
    },
    {
      "cell_type": "code",
      "execution_count": 6,
      "metadata": {
        "id": "PXn8I99Dq6HT",
        "colab": {
          "base_uri": "https://localhost:8080/"
        },
        "outputId": "94222369-23c7-43b7-f7df-3c0592c7924c"
      },
      "outputs": [
        {
          "output_type": "execute_result",
          "data": {
            "text/plain": [
              "array([1, 2, 0, 3])"
            ]
          },
          "metadata": {},
          "execution_count": 6
        }
      ],
      "source": [
        "df['label'].unique()"
      ]
    },
    {
      "cell_type": "code",
      "execution_count": 7,
      "metadata": {
        "id": "jCl1AZlicf2o"
      },
      "outputs": [],
      "source": [
        "import torch\n",
        "from torch.utils.data import Dataset, DataLoader\n",
        "from transformers import AutoTokenizer, AutoModelForSequenceClassification, AdamW\n",
        "from sklearn.model_selection import train_test_split\n",
        "import torch.nn as nn\n",
        "\n",
        "def set_seed(seed=42):\n",
        "    torch.manual_seed(seed)\n",
        "    torch.cuda.manual_seed(seed)\n",
        "\n",
        "# Custom Dataset 정의\n",
        "class KoreanTextDataset(Dataset):\n",
        "    def __init__(self, df, tokenizer, max_len, with_labels=True):\n",
        "        self.tokenizer = tokenizer\n",
        "        self.data = df\n",
        "        self.sentences = df[\"text\"].values\n",
        "        self.labels = df[\"label\"].values if with_labels else None\n",
        "        self.max_len = max_len\n",
        "        self.with_labels = with_labels\n",
        "\n",
        "    def __len__(self):\n",
        "        return len(self.sentences)\n",
        "\n",
        "    def __getitem__(self, index):\n",
        "        sentence = self.sentences[index]\n",
        "\n",
        "        inputs = self.tokenizer.encode_plus(\n",
        "            sentence,\n",
        "            add_special_tokens=True,\n",
        "            max_length=self.max_len,\n",
        "            pad_to_max_length=True,\n",
        "            return_attention_mask=True,\n",
        "            truncation=True\n",
        "        )\n",
        "\n",
        "        ids = torch.tensor(inputs['input_ids'], dtype=torch.long)\n",
        "        mask = torch.tensor(inputs['attention_mask'], dtype=torch.long)\n",
        "\n",
        "        if self.with_labels:\n",
        "            label = self.labels[index]\n",
        "            return {\n",
        "                'ids': ids,\n",
        "                'mask': mask,\n",
        "                'labels': torch.tensor(label, dtype=torch.long)\n",
        "            }\n",
        "        else:\n",
        "            return {\n",
        "                'ids': ids,\n",
        "                'mask': mask\n",
        "            }"
      ]
    },
    {
      "cell_type": "code",
      "execution_count": 24,
      "metadata": {
        "id": "rpQdjUwS8Vwe",
        "colab": {
          "base_uri": "https://localhost:8080/"
        },
        "outputId": "a1204b9a-3378-465a-874b-90191514fd57"
      },
      "outputs": [
        {
          "output_type": "stream",
          "name": "stderr",
          "text": [
            "Some weights of RobertaForSequenceClassification were not initialized from the model checkpoint at klue/roberta-base and are newly initialized: ['classifier.dense.bias', 'classifier.dense.weight', 'classifier.out_proj.bias', 'classifier.out_proj.weight']\n",
            "You should probably TRAIN this model on a down-stream task to be able to use it for predictions and inference.\n"
          ]
        }
      ],
      "source": [
        "# 모델 및 토크나이저 불러오기\n",
        "tokenizer = AutoTokenizer.from_pretrained(\"klue/roberta-base\")\n",
        "model = AutoModelForSequenceClassification.from_pretrained(\"klue/roberta-base\", num_labels=4).to(device)\n"
      ]
    },
    {
      "cell_type": "code",
      "execution_count": 25,
      "metadata": {
        "id": "q_kY3dkJ8O_M"
      },
      "outputs": [],
      "source": [
        "# 모델 학습 함수\n",
        "def train_model(model, tokenizer, train_dataframe, epochs, epochs_stop):\n",
        "    BATCH_SIZE = 16\n",
        "    MAX_LEN = 256\n",
        "\n",
        "    # Train-validation split\n",
        "    train_df, val_df = train_test_split(train_dataframe, test_size=0.2, random_state=42)\n",
        "\n",
        "    # Datasets and DataLoaders\n",
        "    train_data = KoreanTextDataset(train_df, tokenizer, MAX_LEN)\n",
        "    val_data = KoreanTextDataset(val_df, tokenizer, MAX_LEN)\n",
        "    train_dataloader = DataLoader(train_data, batch_size=BATCH_SIZE, shuffle=True)\n",
        "    val_dataloader = DataLoader(val_data, batch_size=BATCH_SIZE)\n",
        "\n",
        "    # Optimizer, loss function, and learning rate scheduler\n",
        "    optimizer = AdamW(model.parameters(), lr=2e-5)\n",
        "    criterion = nn.CrossEntropyLoss()\n",
        "    scheduler = torch.optim.lr_scheduler.ReduceLROnPlateau(optimizer, mode='min', factor=0.9, patience=10, verbose=True)\n",
        "\n",
        "    model.train()\n",
        "    no_improve = 0\n",
        "    prev_loss = float('inf')\n",
        "\n",
        "    for epoch in range(epochs):\n",
        "        running_loss = 0.0\n",
        "        running_acc = 0.0  # Accuracy tracking\n",
        "        model.train()\n",
        "\n",
        "        for step, data in enumerate(train_dataloader):\n",
        "            ids = data['ids'].to(device)\n",
        "            mask = data['mask'].to(device)\n",
        "            labels = data['labels'].to(device)\n",
        "\n",
        "            outputs = model(ids, attention_mask=mask)\n",
        "            loss = criterion(outputs.logits, labels)\n",
        "            optimizer.zero_grad()\n",
        "            loss.backward()\n",
        "            optimizer.step()\n",
        "\n",
        "            running_loss += loss.item()\n",
        "            running_acc += calc_accuracy(outputs.logits, labels)  # Accuracy 계산\n",
        "\n",
        "        # Validation\n",
        "        model.eval()\n",
        "        val_loss = 0.0\n",
        "        val_acc = 0.0  # Validation accuracy tracking\n",
        "\n",
        "        with torch.no_grad():\n",
        "            for data in val_dataloader:\n",
        "                ids = data['ids'].to(device)\n",
        "                mask = data['mask'].to(device)\n",
        "                labels = data['labels'].to(device)\n",
        "\n",
        "                outputs = model(ids, attention_mask=mask)\n",
        "                loss = criterion(outputs.logits, labels)\n",
        "                val_loss += loss.item()\n",
        "                val_acc += calc_accuracy(outputs.logits, labels)  # Validation accuracy 계산\n",
        "\n",
        "        avg_train_loss = running_loss / len(train_dataloader)\n",
        "        avg_val_loss = val_loss / len(val_dataloader)\n",
        "        avg_train_acc = running_acc / len(train_dataloader)\n",
        "        avg_val_acc = val_acc / len(val_dataloader)\n",
        "\n",
        "        print(f\"EPOCH {epoch+1} completed: Training Loss: {avg_train_loss:.4f}, Validation Loss: {avg_val_loss:.4f}, Training Accuracy: {avg_train_acc:.4f}, Validation Accuracy: {avg_val_acc:.4f}\")\n",
        "\n",
        "        # Learning rate scheduler step\n",
        "        scheduler.step(avg_val_loss)\n",
        "\n",
        "        # Early stopping check\n",
        "        if prev_loss - avg_val_loss <= 0.0001:\n",
        "            no_improve += 1\n",
        "        else:\n",
        "            no_improve = 0\n",
        "\n",
        "        prev_loss = avg_val_loss\n",
        "\n",
        "        if no_improve == epochs_stop:\n",
        "            print(\"Early stopping due to no improvement in validation loss.\")\n",
        "            break\n",
        "\n",
        "    return model\n"
      ]
    },
    {
      "cell_type": "code",
      "execution_count": 26,
      "metadata": {
        "id": "nhVDLQHd8O9q"
      },
      "outputs": [],
      "source": [
        "# Accuracy 계산 함수\n",
        "def calc_accuracy(preds, labels):\n",
        "    _, max_indices = torch.max(preds, dim=1)\n",
        "    accuracy = (max_indices == labels).sum().item() / max_indices.size(0)\n",
        "    return accuracy"
      ]
    },
    {
      "cell_type": "code",
      "execution_count": 27,
      "metadata": {
        "id": "N1k7PyQR8O8D",
        "colab": {
          "base_uri": "https://localhost:8080/"
        },
        "outputId": "fc1649c5-6ce4-49e3-b6c4-ed7386be31d2"
      },
      "outputs": [
        {
          "output_type": "stream",
          "name": "stdout",
          "text": [
            "EPOCH 1 completed: Training Loss: 0.8587, Validation Loss: 0.7508, Training Accuracy: 0.6521, Validation Accuracy: 0.7105\n",
            "EPOCH 2 completed: Training Loss: 0.6725, Validation Loss: 0.7119, Training Accuracy: 0.7406, Validation Accuracy: 0.7226\n",
            "EPOCH 3 completed: Training Loss: 0.5858, Validation Loss: 0.7376, Training Accuracy: 0.7807, Validation Accuracy: 0.7115\n",
            "EPOCH 4 completed: Training Loss: 0.4974, Validation Loss: 0.7967, Training Accuracy: 0.8162, Validation Accuracy: 0.7190\n",
            "EPOCH 5 completed: Training Loss: 0.4267, Validation Loss: 0.8393, Training Accuracy: 0.8442, Validation Accuracy: 0.7079\n",
            "EPOCH 6 completed: Training Loss: 0.3611, Validation Loss: 0.9296, Training Accuracy: 0.8708, Validation Accuracy: 0.7126\n",
            "EPOCH 7 completed: Training Loss: 0.3254, Validation Loss: 1.0369, Training Accuracy: 0.8831, Validation Accuracy: 0.7073\n",
            "Early stopping due to no improvement in validation loss.\n"
          ]
        }
      ],
      "source": [
        "# 모델 학습 실행 -> 1시간 소요\n",
        "klueroberta_model_trained = train_model(model, tokenizer, df_train, epochs=10, epochs_stop=5)"
      ]
    },
    {
      "cell_type": "code",
      "execution_count": 12,
      "metadata": {
        "id": "jozVrcb78O6i",
        "colab": {
          "base_uri": "https://localhost:8080/"
        },
        "outputId": "8779b3b7-fced-414a-9f1e-c42e87b5ef25"
      },
      "outputs": [
        {
          "output_type": "stream",
          "name": "stdout",
          "text": [
            "Test Accuracy: 0.6990\n"
          ]
        },
        {
          "output_type": "execute_result",
          "data": {
            "text/plain": [
              "0.6989690721649484"
            ]
          },
          "metadata": {},
          "execution_count": 12
        }
      ],
      "source": [
        "# def evaluate_model(model, tokenizer, test_dataframe, batch_size=16, max_len=256):\n",
        "#     model.eval()\n",
        "#     test_data = KoreanTextDataset(test_dataframe, tokenizer, max_len)\n",
        "#     test_dataloader = DataLoader(test_data, batch_size=batch_size)\n",
        "\n",
        "#     test_acc = 0.0\n",
        "#     with torch.no_grad():\n",
        "#         for data in test_dataloader:\n",
        "#             ids = data['ids'].to(device)\n",
        "#             mask = data['mask'].to(device)\n",
        "#             labels = data['labels'].to(device)\n",
        "\n",
        "#             outputs = model(ids, attention_mask=mask)\n",
        "#             test_acc += calc_accuracy(outputs.logits, labels)\n",
        "\n",
        "#     avg_test_acc = test_acc / len(test_dataloader)\n",
        "#     print(f\"Test Accuracy: {avg_test_acc:.4f}\")\n",
        "#     return avg_test_acc\n",
        "\n",
        "\n",
        "# # Test 데이터 평가\n",
        "# evaluate_model(klueroberta_model_trained, tokenizer, df_test)"
      ]
    },
    {
      "cell_type": "code",
      "source": [
        "# prompt: 해당 모델의 f1 score도 보여줘\n",
        "\n",
        "from sklearn.metrics import f1_score\n",
        "\n",
        "def evaluate_model_with_f1(model, tokenizer, test_dataframe, batch_size=16, max_len=256):\n",
        "    model.eval()\n",
        "    test_data = KoreanTextDataset(test_dataframe, tokenizer, max_len)\n",
        "    test_dataloader = DataLoader(test_data, batch_size=batch_size)\n",
        "\n",
        "    test_acc = 0.0\n",
        "    all_labels = []\n",
        "    all_preds = []\n",
        "    with torch.no_grad():\n",
        "        for data in test_dataloader:\n",
        "            ids = data['ids'].to(device)\n",
        "            mask = data['mask'].to(device)\n",
        "            labels = data['labels'].to(device)\n",
        "\n",
        "            outputs = model(ids, attention_mask=mask)\n",
        "            _, preds = torch.max(outputs.logits, dim=1)\n",
        "\n",
        "            all_labels.extend(labels.cpu().numpy())\n",
        "            all_preds.extend(preds.cpu().numpy())\n",
        "\n",
        "            test_acc += calc_accuracy(outputs.logits, labels)\n",
        "\n",
        "    avg_test_acc = test_acc / len(test_dataloader)\n",
        "    print(f\"Test Accuracy: {avg_test_acc:.4f}\")\n",
        "\n",
        "    f1 = f1_score(all_labels, all_preds, average='weighted')\n",
        "    print(f\"F1 Score: {f1:.4f}\")\n",
        "    return avg_test_acc, f1\n",
        "\n",
        "\n",
        "# Test 데이터 평가 및 F1 Score 출력\n",
        "evaluate_model_with_f1(klueroberta_model_trained, tokenizer, df_test)\n"
      ],
      "metadata": {
        "colab": {
          "base_uri": "https://localhost:8080/"
        },
        "id": "T5TYkiMeqZia",
        "outputId": "7d9ed437-58ad-4a1d-c925-3e2206f27a88"
      },
      "execution_count": 28,
      "outputs": [
        {
          "output_type": "stream",
          "name": "stdout",
          "text": [
            "Test Accuracy: 0.7026\n",
            "F1 Score: 0.6928\n"
          ]
        },
        {
          "output_type": "execute_result",
          "data": {
            "text/plain": [
              "(0.7025773195876289, 0.6928095574033654)"
            ]
          },
          "metadata": {},
          "execution_count": 28
        }
      ]
    },
    {
      "cell_type": "code",
      "source": [
        "# npy 저장 코드\n",
        "import numpy as np\n",
        "\n",
        "def predict_and_save_results(model, tokenizer, test_dataframe, batch_size=16, max_len=256):\n",
        "    model.eval()\n",
        "    test_data = KoreanTextDataset(test_dataframe, tokenizer, max_len, with_labels=True)\n",
        "    test_dataloader = DataLoader(test_data, batch_size=batch_size)\n",
        "\n",
        "    true_labels = []\n",
        "    predicted_classes = []\n",
        "    probabilities = []\n",
        "\n",
        "    with torch.no_grad():\n",
        "        for data in test_dataloader:\n",
        "            ids = data['ids'].to(device)\n",
        "            mask = data['mask'].to(device)\n",
        "            labels = data['labels'].to(device)\n",
        "\n",
        "            outputs = model(ids, attention_mask=mask)\n",
        "            logits = outputs.logits\n",
        "            probs = torch.softmax(logits, dim=1)\n",
        "\n",
        "            true_labels.extend(labels.cpu().numpy())\n",
        "            predicted_classes.extend(torch.argmax(logits, dim=1).cpu().numpy())\n",
        "            probabilities.extend(probs.cpu().numpy())\n",
        "\n",
        "    # Save results to npy files\n",
        "    np.save('true_labels.npy', np.array(true_labels))\n",
        "    np.save('predicted_classes.npy', np.array(predicted_classes))\n",
        "    np.save('probabilities.npy', np.array(probabilities))\n",
        "\n",
        "# Call the function to save the results\n",
        "predict_and_save_results(klueroberta_model_trained, tokenizer, df_test)\n"
      ],
      "metadata": {
        "collapsed": true,
        "id": "y86C8XDpo6HX"
      },
      "execution_count": 29,
      "outputs": []
    },
    {
      "cell_type": "code",
      "source": [
        "import numpy as np\n",
        "\n",
        "true = np.load('/content/true_labels.npy')\n",
        "probabilities = np.load('/content/probabilities.npy')\n",
        "predicted_classes = np.load('/content/predicted_classes.npy')\n",
        "print(true.shape)\n",
        "print(predicted_classes.shape)\n",
        "print(probabilities.shape)\n"
      ],
      "metadata": {
        "colab": {
          "base_uri": "https://localhost:8080/"
        },
        "id": "nBLkts6EpTvL",
        "outputId": "cbcfd944-ffdc-4b79-db7a-6f38c869bfdd"
      },
      "execution_count": 30,
      "outputs": [
        {
          "output_type": "stream",
          "name": "stdout",
          "text": [
            "(3093,)\n",
            "(3093,)\n",
            "(3093, 4)\n"
          ]
        }
      ]
    },
    {
      "cell_type": "code",
      "source": [],
      "metadata": {
        "id": "-aInA7vnq3d1"
      },
      "execution_count": null,
      "outputs": []
    }
  ],
  "metadata": {
    "accelerator": "GPU",
    "colab": {
      "gpuType": "T4",
      "provenance": []
    },
    "kernelspec": {
      "display_name": "Python 3",
      "name": "python3"
    },
    "language_info": {
      "name": "python"
    }
  },
  "nbformat": 4,
  "nbformat_minor": 0
}